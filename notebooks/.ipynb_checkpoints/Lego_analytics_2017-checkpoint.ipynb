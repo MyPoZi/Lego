{
 "cells": [
  {
   "cell_type": "code",
   "execution_count": 1,
   "metadata": {},
   "outputs": [
    {
     "data": {
      "text/html": [
       "<div>\n",
       "<style scoped>\n",
       "    .dataframe tbody tr th:only-of-type {\n",
       "        vertical-align: middle;\n",
       "    }\n",
       "\n",
       "    .dataframe tbody tr th {\n",
       "        vertical-align: top;\n",
       "    }\n",
       "\n",
       "    .dataframe thead th {\n",
       "        text-align: right;\n",
       "    }\n",
       "</style>\n",
       "<table border=\"1\" class=\"dataframe\">\n",
       "  <thead>\n",
       "    <tr style=\"text-align: right;\">\n",
       "      <th></th>\n",
       "      <th>SetID</th>\n",
       "      <th>Number</th>\n",
       "      <th>Variant</th>\n",
       "      <th>Theme</th>\n",
       "      <th>Subtheme</th>\n",
       "      <th>Year</th>\n",
       "      <th>Name</th>\n",
       "      <th>Minifigs</th>\n",
       "      <th>Pieces</th>\n",
       "      <th>UKPrice</th>\n",
       "      <th>USPrice</th>\n",
       "      <th>CAPrice</th>\n",
       "      <th>EUPrice</th>\n",
       "      <th>ImageURL</th>\n",
       "      <th>OwnedBy</th>\n",
       "      <th>WantedBy</th>\n",
       "    </tr>\n",
       "  </thead>\n",
       "  <tbody>\n",
       "    <tr>\n",
       "      <th>0</th>\n",
       "      <td>26649</td>\n",
       "      <td>10255</td>\n",
       "      <td>1</td>\n",
       "      <td>Advanced Models</td>\n",
       "      <td>Modular Buildings</td>\n",
       "      <td>2017</td>\n",
       "      <td>Assembly Square</td>\n",
       "      <td>9.0</td>\n",
       "      <td>4002.0</td>\n",
       "      <td>179.99</td>\n",
       "      <td>279.99</td>\n",
       "      <td>339.99</td>\n",
       "      <td>239.99</td>\n",
       "      <td>https://images.brickset.com/sets/images/10255-...</td>\n",
       "      <td>8239</td>\n",
       "      <td>5444.0</td>\n",
       "    </tr>\n",
       "    <tr>\n",
       "      <th>1</th>\n",
       "      <td>27618</td>\n",
       "      <td>10256</td>\n",
       "      <td>1</td>\n",
       "      <td>Advanced Models</td>\n",
       "      <td>Buildings</td>\n",
       "      <td>2017</td>\n",
       "      <td>Taj Mahal</td>\n",
       "      <td>NaN</td>\n",
       "      <td>5923.0</td>\n",
       "      <td>299.99</td>\n",
       "      <td>369.99</td>\n",
       "      <td>449.99</td>\n",
       "      <td>329.99</td>\n",
       "      <td>https://images.brickset.com/sets/images/10256-...</td>\n",
       "      <td>1365</td>\n",
       "      <td>1546.0</td>\n",
       "    </tr>\n",
       "  </tbody>\n",
       "</table>\n",
       "</div>"
      ],
      "text/plain": [
       "   SetID Number  Variant            Theme           Subtheme  Year  \\\n",
       "0  26649  10255        1  Advanced Models  Modular Buildings  2017   \n",
       "1  27618  10256        1  Advanced Models          Buildings  2017   \n",
       "\n",
       "              Name  Minifigs  Pieces  UKPrice  USPrice  CAPrice  EUPrice  \\\n",
       "0  Assembly Square       9.0  4002.0   179.99   279.99   339.99   239.99   \n",
       "1        Taj Mahal       NaN  5923.0   299.99   369.99   449.99   329.99   \n",
       "\n",
       "                                            ImageURL  OwnedBy  WantedBy  \n",
       "0  https://images.brickset.com/sets/images/10255-...     8239    5444.0  \n",
       "1  https://images.brickset.com/sets/images/10256-...     1365    1546.0  "
      ]
     },
     "execution_count": 1,
     "metadata": {},
     "output_type": "execute_result"
    }
   ],
   "source": [
    "import pandas as pd\n",
    "\n",
    "CSV = './brickset2017.csv'\n",
    "lego_df = pd.read_csv(CSV,dtype={'Number': 'object'})\n",
    "lego_df.head(2)"
   ]
  },
  {
   "cell_type": "code",
   "execution_count": 2,
   "metadata": {},
   "outputs": [
    {
     "name": "stdout",
     "output_type": "stream",
     "text": [
      "df = degree of freedom\n"
     ]
    }
   ],
   "source": [
    "print(\"df = degree of freedom\")"
   ]
  },
  {
   "cell_type": "code",
   "execution_count": 3,
   "metadata": {},
   "outputs": [
    {
     "name": "stdout",
     "output_type": "stream",
     "text": [
      "dropna 実行前： 836\n"
     ]
    },
    {
     "data": {
      "text/plain": [
       "SetID         0\n",
       "Number        0\n",
       "Variant       0\n",
       "Theme         0\n",
       "Subtheme    150\n",
       "Year          0\n",
       "Name          0\n",
       "Minifigs    428\n",
       "Pieces      295\n",
       "UKPrice     345\n",
       "USPrice     272\n",
       "CAPrice     357\n",
       "EUPrice     353\n",
       "ImageURL      0\n",
       "OwnedBy       0\n",
       "WantedBy      9\n",
       "dtype: int64"
      ]
     },
     "execution_count": 3,
     "metadata": {},
     "output_type": "execute_result"
    }
   ],
   "source": [
    "print('dropna 実行前：', len(lego_df))\n",
    "lego_df.isnull().sum()"
   ]
  },
  {
   "cell_type": "code",
   "execution_count": 4,
   "metadata": {},
   "outputs": [
    {
     "name": "stdout",
     "output_type": "stream",
     "text": [
      "dropna 実行後 430\n"
     ]
    },
    {
     "data": {
      "text/plain": [
       "SetID         0\n",
       "Number        0\n",
       "Variant       0\n",
       "Theme         0\n",
       "Subtheme    114\n",
       "Year          0\n",
       "Name          0\n",
       "Minifigs     87\n",
       "Pieces        0\n",
       "UKPrice      44\n",
       "USPrice       0\n",
       "CAPrice      72\n",
       "EUPrice      47\n",
       "ImageURL      0\n",
       "OwnedBy       0\n",
       "WantedBy      0\n",
       "dtype: int64"
      ]
     },
     "execution_count": 4,
     "metadata": {},
     "output_type": "execute_result"
    }
   ],
   "source": [
    "lego_df.dropna(subset=['Number','USPrice','Pieces'],inplace=True)\n",
    "\n",
    "print('dropna 実行後',len(lego_df))\n",
    "\n",
    "lego_df.isnull().sum()\n"
   ]
  },
  {
   "cell_type": "code",
   "execution_count": 5,
   "metadata": {},
   "outputs": [
    {
     "data": {
      "text/html": [
       "<div>\n",
       "<style scoped>\n",
       "    .dataframe tbody tr th:only-of-type {\n",
       "        vertical-align: middle;\n",
       "    }\n",
       "\n",
       "    .dataframe tbody tr th {\n",
       "        vertical-align: top;\n",
       "    }\n",
       "\n",
       "    .dataframe thead th {\n",
       "        text-align: right;\n",
       "    }\n",
       "</style>\n",
       "<table border=\"1\" class=\"dataframe\">\n",
       "  <thead>\n",
       "    <tr style=\"text-align: right;\">\n",
       "      <th></th>\n",
       "      <th>SetID</th>\n",
       "      <th>Variant</th>\n",
       "      <th>Theme</th>\n",
       "      <th>Subtheme</th>\n",
       "      <th>Year</th>\n",
       "      <th>Name</th>\n",
       "      <th>Minifigs</th>\n",
       "      <th>Pieces</th>\n",
       "      <th>UKPrice</th>\n",
       "      <th>USPrice</th>\n",
       "      <th>CAPrice</th>\n",
       "      <th>EUPrice</th>\n",
       "      <th>ImageURL</th>\n",
       "      <th>OwnedBy</th>\n",
       "      <th>WantedBy</th>\n",
       "    </tr>\n",
       "    <tr>\n",
       "      <th>Number</th>\n",
       "      <th></th>\n",
       "      <th></th>\n",
       "      <th></th>\n",
       "      <th></th>\n",
       "      <th></th>\n",
       "      <th></th>\n",
       "      <th></th>\n",
       "      <th></th>\n",
       "      <th></th>\n",
       "      <th></th>\n",
       "      <th></th>\n",
       "      <th></th>\n",
       "      <th></th>\n",
       "      <th></th>\n",
       "      <th></th>\n",
       "    </tr>\n",
       "  </thead>\n",
       "  <tbody>\n",
       "    <tr>\n",
       "      <th>10255</th>\n",
       "      <td>26649</td>\n",
       "      <td>1</td>\n",
       "      <td>Advanced Models</td>\n",
       "      <td>Modular Buildings</td>\n",
       "      <td>2017</td>\n",
       "      <td>Assembly Square</td>\n",
       "      <td>9.0</td>\n",
       "      <td>4002.0</td>\n",
       "      <td>179.99</td>\n",
       "      <td>279.99</td>\n",
       "      <td>339.99</td>\n",
       "      <td>239.99</td>\n",
       "      <td>https://images.brickset.com/sets/images/10255-...</td>\n",
       "      <td>8239</td>\n",
       "      <td>5444.0</td>\n",
       "    </tr>\n",
       "    <tr>\n",
       "      <th>10256</th>\n",
       "      <td>27618</td>\n",
       "      <td>1</td>\n",
       "      <td>Advanced Models</td>\n",
       "      <td>Buildings</td>\n",
       "      <td>2017</td>\n",
       "      <td>Taj Mahal</td>\n",
       "      <td>NaN</td>\n",
       "      <td>5923.0</td>\n",
       "      <td>299.99</td>\n",
       "      <td>369.99</td>\n",
       "      <td>449.99</td>\n",
       "      <td>329.99</td>\n",
       "      <td>https://images.brickset.com/sets/images/10256-...</td>\n",
       "      <td>1365</td>\n",
       "      <td>1546.0</td>\n",
       "    </tr>\n",
       "  </tbody>\n",
       "</table>\n",
       "</div>"
      ],
      "text/plain": [
       "        SetID  Variant            Theme           Subtheme  Year  \\\n",
       "Number                                                             \n",
       "10255   26649        1  Advanced Models  Modular Buildings  2017   \n",
       "10256   27618        1  Advanced Models          Buildings  2017   \n",
       "\n",
       "                   Name  Minifigs  Pieces  UKPrice  USPrice  CAPrice  EUPrice  \\\n",
       "Number                                                                          \n",
       "10255   Assembly Square       9.0  4002.0   179.99   279.99   339.99   239.99   \n",
       "10256         Taj Mahal       NaN  5923.0   299.99   369.99   449.99   329.99   \n",
       "\n",
       "                                                 ImageURL  OwnedBy  WantedBy  \n",
       "Number                                                                        \n",
       "10255   https://images.brickset.com/sets/images/10255-...     8239    5444.0  \n",
       "10256   https://images.brickset.com/sets/images/10256-...     1365    1546.0  "
      ]
     },
     "execution_count": 5,
     "metadata": {},
     "output_type": "execute_result"
    }
   ],
   "source": [
    "lego_df.set_index('Number',inplace=True)\n",
    "lego_df.head(2)"
   ]
  },
  {
   "cell_type": "code",
   "execution_count": 6,
   "metadata": {},
   "outputs": [
    {
     "data": {
      "text/html": [
       "<div>\n",
       "<style scoped>\n",
       "    .dataframe tbody tr th:only-of-type {\n",
       "        vertical-align: middle;\n",
       "    }\n",
       "\n",
       "    .dataframe tbody tr th {\n",
       "        vertical-align: top;\n",
       "    }\n",
       "\n",
       "    .dataframe thead th {\n",
       "        text-align: right;\n",
       "    }\n",
       "</style>\n",
       "<table border=\"1\" class=\"dataframe\">\n",
       "  <thead>\n",
       "    <tr style=\"text-align: right;\">\n",
       "      <th></th>\n",
       "      <th>Theme</th>\n",
       "      <th>Subtheme</th>\n",
       "      <th>Year</th>\n",
       "      <th>Name</th>\n",
       "      <th>Minifigs</th>\n",
       "      <th>Pieces</th>\n",
       "      <th>USPrice</th>\n",
       "      <th>OwnedBy</th>\n",
       "      <th>WantedBy</th>\n",
       "    </tr>\n",
       "    <tr>\n",
       "      <th>Number</th>\n",
       "      <th></th>\n",
       "      <th></th>\n",
       "      <th></th>\n",
       "      <th></th>\n",
       "      <th></th>\n",
       "      <th></th>\n",
       "      <th></th>\n",
       "      <th></th>\n",
       "      <th></th>\n",
       "    </tr>\n",
       "  </thead>\n",
       "  <tbody>\n",
       "    <tr>\n",
       "      <th>10255</th>\n",
       "      <td>Advanced Models</td>\n",
       "      <td>Modular Buildings</td>\n",
       "      <td>2017</td>\n",
       "      <td>Assembly Square</td>\n",
       "      <td>9.0</td>\n",
       "      <td>4002.0</td>\n",
       "      <td>279.99</td>\n",
       "      <td>8239</td>\n",
       "      <td>5444.0</td>\n",
       "    </tr>\n",
       "    <tr>\n",
       "      <th>10256</th>\n",
       "      <td>Advanced Models</td>\n",
       "      <td>Buildings</td>\n",
       "      <td>2017</td>\n",
       "      <td>Taj Mahal</td>\n",
       "      <td>NaN</td>\n",
       "      <td>5923.0</td>\n",
       "      <td>369.99</td>\n",
       "      <td>1365</td>\n",
       "      <td>1546.0</td>\n",
       "    </tr>\n",
       "    <tr>\n",
       "      <th>10257</th>\n",
       "      <td>Advanced Models</td>\n",
       "      <td>Fairground</td>\n",
       "      <td>2017</td>\n",
       "      <td>Carousel</td>\n",
       "      <td>7.0</td>\n",
       "      <td>2670.0</td>\n",
       "      <td>199.99</td>\n",
       "      <td>3743</td>\n",
       "      <td>2951.0</td>\n",
       "    </tr>\n",
       "    <tr>\n",
       "      <th>10258</th>\n",
       "      <td>Advanced Models</td>\n",
       "      <td>Vehicles</td>\n",
       "      <td>2017</td>\n",
       "      <td>London Bus</td>\n",
       "      <td>NaN</td>\n",
       "      <td>1686.0</td>\n",
       "      <td>139.99</td>\n",
       "      <td>3829</td>\n",
       "      <td>2366.0</td>\n",
       "    </tr>\n",
       "    <tr>\n",
       "      <th>10259</th>\n",
       "      <td>Advanced Models</td>\n",
       "      <td>Winter Village</td>\n",
       "      <td>2017</td>\n",
       "      <td>Winter Village Station</td>\n",
       "      <td>5.0</td>\n",
       "      <td>902.0</td>\n",
       "      <td>79.99</td>\n",
       "      <td>5445</td>\n",
       "      <td>1941.0</td>\n",
       "    </tr>\n",
       "  </tbody>\n",
       "</table>\n",
       "</div>"
      ],
      "text/plain": [
       "                  Theme           Subtheme  Year                    Name  \\\n",
       "Number                                                                     \n",
       "10255   Advanced Models  Modular Buildings  2017         Assembly Square   \n",
       "10256   Advanced Models          Buildings  2017               Taj Mahal   \n",
       "10257   Advanced Models         Fairground  2017                Carousel   \n",
       "10258   Advanced Models           Vehicles  2017              London Bus   \n",
       "10259   Advanced Models     Winter Village  2017  Winter Village Station   \n",
       "\n",
       "        Minifigs  Pieces  USPrice  OwnedBy  WantedBy  \n",
       "Number                                                \n",
       "10255        9.0  4002.0   279.99     8239    5444.0  \n",
       "10256        NaN  5923.0   369.99     1365    1546.0  \n",
       "10257        7.0  2670.0   199.99     3743    2951.0  \n",
       "10258        NaN  1686.0   139.99     3829    2366.0  \n",
       "10259        5.0   902.0    79.99     5445    1941.0  "
      ]
     },
     "execution_count": 6,
     "metadata": {},
     "output_type": "execute_result"
    }
   ],
   "source": [
    "colums = ['Theme', 'Subtheme', 'Year', 'Name', 'Minifigs', 'Pieces', 'USPrice', 'OwnedBy', 'WantedBy']\n",
    "lego_df = lego_df[colums]\n",
    "lego_df.head()"
   ]
  },
  {
   "cell_type": "code",
   "execution_count": 7,
   "metadata": {},
   "outputs": [
    {
     "data": {
      "text/html": [
       "<div>\n",
       "<style scoped>\n",
       "    .dataframe tbody tr th:only-of-type {\n",
       "        vertical-align: middle;\n",
       "    }\n",
       "\n",
       "    .dataframe tbody tr th {\n",
       "        vertical-align: top;\n",
       "    }\n",
       "\n",
       "    .dataframe thead th {\n",
       "        text-align: right;\n",
       "    }\n",
       "</style>\n",
       "<table border=\"1\" class=\"dataframe\">\n",
       "  <thead>\n",
       "    <tr style=\"text-align: right;\">\n",
       "      <th></th>\n",
       "      <th>Year</th>\n",
       "      <th>Minifigs</th>\n",
       "      <th>Pieces</th>\n",
       "      <th>USPrice</th>\n",
       "      <th>OwnedBy</th>\n",
       "      <th>WantedBy</th>\n",
       "    </tr>\n",
       "  </thead>\n",
       "  <tbody>\n",
       "    <tr>\n",
       "      <th>count</th>\n",
       "      <td>430.0</td>\n",
       "      <td>343.0</td>\n",
       "      <td>430.0</td>\n",
       "      <td>430.0</td>\n",
       "      <td>430.0</td>\n",
       "      <td>430.0</td>\n",
       "    </tr>\n",
       "    <tr>\n",
       "      <th>mean</th>\n",
       "      <td>2017.0</td>\n",
       "      <td>2.9</td>\n",
       "      <td>376.8</td>\n",
       "      <td>39.4</td>\n",
       "      <td>2386.7</td>\n",
       "      <td>761.0</td>\n",
       "    </tr>\n",
       "    <tr>\n",
       "      <th>std</th>\n",
       "      <td>0.0</td>\n",
       "      <td>2.2</td>\n",
       "      <td>688.4</td>\n",
       "      <td>59.9</td>\n",
       "      <td>1762.6</td>\n",
       "      <td>632.8</td>\n",
       "    </tr>\n",
       "    <tr>\n",
       "      <th>min</th>\n",
       "      <td>2017.0</td>\n",
       "      <td>1.0</td>\n",
       "      <td>4.0</td>\n",
       "      <td>4.0</td>\n",
       "      <td>28.0</td>\n",
       "      <td>21.0</td>\n",
       "    </tr>\n",
       "    <tr>\n",
       "      <th>25%</th>\n",
       "      <td>2017.0</td>\n",
       "      <td>1.0</td>\n",
       "      <td>72.2</td>\n",
       "      <td>10.0</td>\n",
       "      <td>977.8</td>\n",
       "      <td>363.0</td>\n",
       "    </tr>\n",
       "    <tr>\n",
       "      <th>50%</th>\n",
       "      <td>2017.0</td>\n",
       "      <td>2.0</td>\n",
       "      <td>174.5</td>\n",
       "      <td>20.0</td>\n",
       "      <td>1975.5</td>\n",
       "      <td>571.0</td>\n",
       "    </tr>\n",
       "    <tr>\n",
       "      <th>75%</th>\n",
       "      <td>2017.0</td>\n",
       "      <td>4.0</td>\n",
       "      <td>396.8</td>\n",
       "      <td>50.0</td>\n",
       "      <td>3466.5</td>\n",
       "      <td>986.2</td>\n",
       "    </tr>\n",
       "    <tr>\n",
       "      <th>max</th>\n",
       "      <td>2017.0</td>\n",
       "      <td>19.0</td>\n",
       "      <td>7541.0</td>\n",
       "      <td>800.0</td>\n",
       "      <td>9871.0</td>\n",
       "      <td>5444.0</td>\n",
       "    </tr>\n",
       "  </tbody>\n",
       "</table>\n",
       "</div>"
      ],
      "text/plain": [
       "         Year  Minifigs  Pieces  USPrice  OwnedBy  WantedBy\n",
       "count   430.0     343.0   430.0    430.0    430.0     430.0\n",
       "mean   2017.0       2.9   376.8     39.4   2386.7     761.0\n",
       "std       0.0       2.2   688.4     59.9   1762.6     632.8\n",
       "min    2017.0       1.0     4.0      4.0     28.0      21.0\n",
       "25%    2017.0       1.0    72.2     10.0    977.8     363.0\n",
       "50%    2017.0       2.0   174.5     20.0   1975.5     571.0\n",
       "75%    2017.0       4.0   396.8     50.0   3466.5     986.2\n",
       "max    2017.0      19.0  7541.0    800.0   9871.0    5444.0"
      ]
     },
     "execution_count": 7,
     "metadata": {},
     "output_type": "execute_result"
    }
   ],
   "source": [
    "lego_df.describe().round(1)"
   ]
  },
  {
   "cell_type": "code",
   "execution_count": 8,
   "metadata": {},
   "outputs": [
    {
     "data": {
      "text/html": [
       "<div>\n",
       "<style scoped>\n",
       "    .dataframe tbody tr th:only-of-type {\n",
       "        vertical-align: middle;\n",
       "    }\n",
       "\n",
       "    .dataframe tbody tr th {\n",
       "        vertical-align: top;\n",
       "    }\n",
       "\n",
       "    .dataframe thead th {\n",
       "        text-align: right;\n",
       "    }\n",
       "</style>\n",
       "<table border=\"1\" class=\"dataframe\">\n",
       "  <thead>\n",
       "    <tr style=\"text-align: right;\">\n",
       "      <th></th>\n",
       "      <th>Pieces</th>\n",
       "      <th>USPrice</th>\n",
       "      <th>UnitPrice</th>\n",
       "    </tr>\n",
       "    <tr>\n",
       "      <th>Number</th>\n",
       "      <th></th>\n",
       "      <th></th>\n",
       "      <th></th>\n",
       "    </tr>\n",
       "  </thead>\n",
       "  <tbody>\n",
       "    <tr>\n",
       "      <th>10255</th>\n",
       "      <td>4002.0</td>\n",
       "      <td>279.99</td>\n",
       "      <td>0.0700</td>\n",
       "    </tr>\n",
       "    <tr>\n",
       "      <th>10256</th>\n",
       "      <td>5923.0</td>\n",
       "      <td>369.99</td>\n",
       "      <td>0.0625</td>\n",
       "    </tr>\n",
       "    <tr>\n",
       "      <th>10257</th>\n",
       "      <td>2670.0</td>\n",
       "      <td>199.99</td>\n",
       "      <td>0.0749</td>\n",
       "    </tr>\n",
       "  </tbody>\n",
       "</table>\n",
       "</div>"
      ],
      "text/plain": [
       "        Pieces  USPrice  UnitPrice\n",
       "Number                            \n",
       "10255   4002.0   279.99     0.0700\n",
       "10256   5923.0   369.99     0.0625\n",
       "10257   2670.0   199.99     0.0749"
      ]
     },
     "execution_count": 8,
     "metadata": {},
     "output_type": "execute_result"
    }
   ],
   "source": [
    "lego_df['UnitPrice'] = round(lego_df['USPrice'] / lego_df['Pieces'], 4)\n",
    "lego_df[['Pieces', 'USPrice', 'UnitPrice']].head(3)"
   ]
  },
  {
   "cell_type": "code",
   "execution_count": 9,
   "metadata": {},
   "outputs": [
    {
     "data": {
      "text/html": [
       "<div>\n",
       "<style scoped>\n",
       "    .dataframe tbody tr th:only-of-type {\n",
       "        vertical-align: middle;\n",
       "    }\n",
       "\n",
       "    .dataframe tbody tr th {\n",
       "        vertical-align: top;\n",
       "    }\n",
       "\n",
       "    .dataframe thead th {\n",
       "        text-align: right;\n",
       "    }\n",
       "</style>\n",
       "<table border=\"1\" class=\"dataframe\">\n",
       "  <thead>\n",
       "    <tr style=\"text-align: right;\">\n",
       "      <th></th>\n",
       "      <th>Year</th>\n",
       "      <th>Minifigs</th>\n",
       "      <th>Pieces</th>\n",
       "      <th>USPrice</th>\n",
       "      <th>OwnedBy</th>\n",
       "      <th>WantedBy</th>\n",
       "      <th>UnitPrice</th>\n",
       "    </tr>\n",
       "  </thead>\n",
       "  <tbody>\n",
       "    <tr>\n",
       "      <th>count</th>\n",
       "      <td>430.0</td>\n",
       "      <td>343.0</td>\n",
       "      <td>430.0</td>\n",
       "      <td>430.0</td>\n",
       "      <td>430.0</td>\n",
       "      <td>430.0</td>\n",
       "      <td>430.0</td>\n",
       "    </tr>\n",
       "    <tr>\n",
       "      <th>mean</th>\n",
       "      <td>2017.0</td>\n",
       "      <td>2.9</td>\n",
       "      <td>376.8</td>\n",
       "      <td>39.4</td>\n",
       "      <td>2386.7</td>\n",
       "      <td>761.0</td>\n",
       "      <td>0.2</td>\n",
       "    </tr>\n",
       "    <tr>\n",
       "      <th>std</th>\n",
       "      <td>0.0</td>\n",
       "      <td>2.2</td>\n",
       "      <td>688.4</td>\n",
       "      <td>59.9</td>\n",
       "      <td>1762.6</td>\n",
       "      <td>632.8</td>\n",
       "      <td>0.2</td>\n",
       "    </tr>\n",
       "    <tr>\n",
       "      <th>min</th>\n",
       "      <td>2017.0</td>\n",
       "      <td>1.0</td>\n",
       "      <td>4.0</td>\n",
       "      <td>4.0</td>\n",
       "      <td>28.0</td>\n",
       "      <td>21.0</td>\n",
       "      <td>0.0</td>\n",
       "    </tr>\n",
       "    <tr>\n",
       "      <th>25%</th>\n",
       "      <td>2017.0</td>\n",
       "      <td>1.0</td>\n",
       "      <td>72.2</td>\n",
       "      <td>10.0</td>\n",
       "      <td>977.8</td>\n",
       "      <td>363.0</td>\n",
       "      <td>0.1</td>\n",
       "    </tr>\n",
       "    <tr>\n",
       "      <th>50%</th>\n",
       "      <td>2017.0</td>\n",
       "      <td>2.0</td>\n",
       "      <td>174.5</td>\n",
       "      <td>20.0</td>\n",
       "      <td>1975.5</td>\n",
       "      <td>571.0</td>\n",
       "      <td>0.1</td>\n",
       "    </tr>\n",
       "    <tr>\n",
       "      <th>75%</th>\n",
       "      <td>2017.0</td>\n",
       "      <td>4.0</td>\n",
       "      <td>396.8</td>\n",
       "      <td>50.0</td>\n",
       "      <td>3466.5</td>\n",
       "      <td>986.2</td>\n",
       "      <td>0.2</td>\n",
       "    </tr>\n",
       "    <tr>\n",
       "      <th>max</th>\n",
       "      <td>2017.0</td>\n",
       "      <td>19.0</td>\n",
       "      <td>7541.0</td>\n",
       "      <td>800.0</td>\n",
       "      <td>9871.0</td>\n",
       "      <td>5444.0</td>\n",
       "      <td>1.5</td>\n",
       "    </tr>\n",
       "  </tbody>\n",
       "</table>\n",
       "</div>"
      ],
      "text/plain": [
       "         Year  Minifigs  Pieces  USPrice  OwnedBy  WantedBy  UnitPrice\n",
       "count   430.0     343.0   430.0    430.0    430.0     430.0      430.0\n",
       "mean   2017.0       2.9   376.8     39.4   2386.7     761.0        0.2\n",
       "std       0.0       2.2   688.4     59.9   1762.6     632.8        0.2\n",
       "min    2017.0       1.0     4.0      4.0     28.0      21.0        0.0\n",
       "25%    2017.0       1.0    72.2     10.0    977.8     363.0        0.1\n",
       "50%    2017.0       2.0   174.5     20.0   1975.5     571.0        0.1\n",
       "75%    2017.0       4.0   396.8     50.0   3466.5     986.2        0.2\n",
       "max    2017.0      19.0  7541.0    800.0   9871.0    5444.0        1.5"
      ]
     },
     "execution_count": 9,
     "metadata": {},
     "output_type": "execute_result"
    }
   ],
   "source": [
    "lego_df.describe().round(1)"
   ]
  },
  {
   "cell_type": "code",
   "execution_count": 10,
   "metadata": {},
   "outputs": [
    {
     "data": {
      "text/plain": [
       "Theme\n",
       "Collectable Minifigures    56\n",
       "Star Wars                  45\n",
       "City                       38\n",
       "Friends                    30\n",
       "Nexo Knights               23\n",
       "Name: Theme, dtype: int64"
      ]
     },
     "execution_count": 10,
     "metadata": {},
     "output_type": "execute_result"
    }
   ],
   "source": [
    "count_theme = lego_df.groupby('Theme')['Theme'].count()\n",
    "count_theme.sort_values(ascending=False).head()"
   ]
  },
  {
   "cell_type": "code",
   "execution_count": 11,
   "metadata": {},
   "outputs": [
    {
     "data": {
      "text/plain": [
       "<matplotlib.axes._subplots.AxesSubplot at 0x1200efb38>"
      ]
     },
     "execution_count": 11,
     "metadata": {},
     "output_type": "execute_result"
    },
    {
     "data": {
      "image/png": "[encoded data removed]",
      "text/plain": [
       "<Figure size 720x360 with 1 Axes>"
      ]
     },
     "metadata": {
      "needs_background": "light"
     },
     "output_type": "display_data"
    }
   ],
   "source": [
    "%matplotlib inline\n",
    "theme_ranking10 = count_theme.sort_values(ascending=False).head(10)\n",
    "theme_ranking10.plot.bar(figsize=(10,5))"
   ]
  },
  {
   "cell_type": "code",
   "execution_count": 12,
   "metadata": {},
   "outputs": [
    {
     "data": {
      "text/plain": [
       "Theme         object\n",
       "Subtheme      object\n",
       "Year           int64\n",
       "Name          object\n",
       "Minifigs     float64\n",
       "Pieces       float64\n",
       "USPrice      float64\n",
       "OwnedBy        int64\n",
       "WantedBy     float64\n",
       "UnitPrice    float64\n",
       "dtype: object"
      ]
     },
     "execution_count": 12,
     "metadata": {},
     "output_type": "execute_result"
    }
   ],
   "source": [
    "lego_df.dtypes"
   ]
  },
  {
   "cell_type": "code",
   "execution_count": 13,
   "metadata": {},
   "outputs": [
    {
     "data": {
      "text/plain": [
       "<matplotlib.axes._subplots.AxesSubplot at 0x122eef518>"
      ]
     },
     "execution_count": 13,
     "metadata": {},
     "output_type": "execute_result"
    },
    {
     "data": {
      "image/png": "[encoded data removed]",
      "text/plain": [
       "<Figure size 576x360 with 1 Axes>"
      ]
     },
     "metadata": {
      "needs_background": "light"
     },
     "output_type": "display_data"
    }
   ],
   "source": [
    "lego_df['USPrice'].plot.hist(bins=20, grid=True, figsize=(8,5))"
   ]
  },
  {
   "cell_type": "code",
   "execution_count": 14,
   "metadata": {},
   "outputs": [
    {
     "data": {
      "text/plain": [
       "<matplotlib.axes._subplots.AxesSubplot at 0x122f0d550>"
      ]
     },
     "execution_count": 14,
     "metadata": {},
     "output_type": "execute_result"
    },
    {
     "data": {
      "image/png": "[encoded data removed]",
      "text/plain": [
       "<Figure size 360x360 with 1 Axes>"
      ]
     },
     "metadata": {
      "needs_background": "light"
     },
     "output_type": "display_data"
    }
   ],
   "source": [
    "lego_df.plot.scatter(x='Pieces', y='USPrice', grid=True, figsize=(5, 5))"
   ]
  },
  {
   "cell_type": "code",
   "execution_count": 15,
   "metadata": {},
   "outputs": [
    {
     "data": {
      "text/plain": [
       "<matplotlib.axes._subplots.AxesSubplot at 0x123062cf8>"
      ]
     },
     "execution_count": 15,
     "metadata": {},
     "output_type": "execute_result"
    },
    {
     "data": {
      "image/png": "[encoded data removed]",
      "text/plain": [
       "<Figure size 360x360 with 1 Axes>"
      ]
     },
     "metadata": {
      "needs_background": "light"
     },
     "output_type": "display_data"
    }
   ],
   "source": [
    "lego_df.plot.scatter(x='USPrice', y='OwnedBy', grid=True, figsize=(5, 5))"
   ]
  },
  {
   "cell_type": "code",
   "execution_count": 16,
   "metadata": {},
   "outputs": [
    {
     "data": {
      "text/plain": [
       "<matplotlib.axes._subplots.AxesSubplot at 0x1120bba90>"
      ]
     },
     "execution_count": 16,
     "metadata": {},
     "output_type": "execute_result"
    },
    {
     "data": {
      "image/png": "[encoded data removed]",
      "text/plain": [
       "<Figure size 360x360 with 1 Axes>"
      ]
     },
     "metadata": {
      "needs_background": "light"
     },
     "output_type": "display_data"
    }
   ],
   "source": [
    "lego_df.plot.scatter(x='Pieces', y='OwnedBy', grid=True, figsize=(5, 5))"
   ]
  },
  {
   "cell_type": "code",
   "execution_count": 17,
   "metadata": {},
   "outputs": [
    {
     "data": {
      "text/plain": [
       "array([[<matplotlib.axes._subplots.AxesSubplot object at 0x1256f0908>,\n",
       "        <matplotlib.axes._subplots.AxesSubplot object at 0x125781c50>,\n",
       "        <matplotlib.axes._subplots.AxesSubplot object at 0x1257b1128>,\n",
       "        <matplotlib.axes._subplots.AxesSubplot object at 0x1257d96a0>],\n",
       "       [<matplotlib.axes._subplots.AxesSubplot object at 0x125800c18>,\n",
       "        <matplotlib.axes._subplots.AxesSubplot object at 0x1258311d0>,\n",
       "        <matplotlib.axes._subplots.AxesSubplot object at 0x12585a748>,\n",
       "        <matplotlib.axes._subplots.AxesSubplot object at 0x125881cf8>],\n",
       "       [<matplotlib.axes._subplots.AxesSubplot object at 0x125881d30>,\n",
       "        <matplotlib.axes._subplots.AxesSubplot object at 0x1258dd7f0>,\n",
       "        <matplotlib.axes._subplots.AxesSubplot object at 0x125905d68>,\n",
       "        <matplotlib.axes._subplots.AxesSubplot object at 0x125935320>],\n",
       "       [<matplotlib.axes._subplots.AxesSubplot object at 0x12595d898>,\n",
       "        <matplotlib.axes._subplots.AxesSubplot object at 0x125985e10>,\n",
       "        <matplotlib.axes._subplots.AxesSubplot object at 0x1259b63c8>,\n",
       "        <matplotlib.axes._subplots.AxesSubplot object at 0x1259dd940>]],\n",
       "      dtype=object)"
      ]
     },
     "execution_count": 17,
     "metadata": {},
     "output_type": "execute_result"
    },
    {
     "data": {
      "image/png": "[encoded data removed]",
      "text/plain": [
       "<Figure size 576x576 with 16 Axes>"
      ]
     },
     "metadata": {
      "needs_background": "light"
     },
     "output_type": "display_data"
    }
   ],
   "source": [
    "from pandas.plotting import scatter_matrix\n",
    "\n",
    "scatter_matrix(lego_df[['Pieces','USPrice','OwnedBy','WantedBy']],figsize=(8,8))"
   ]
  },
  {
   "cell_type": "code",
   "execution_count": 18,
   "metadata": {},
   "outputs": [
    {
     "data": {
      "text/html": [
       "<div>\n",
       "<style scoped>\n",
       "    .dataframe tbody tr th:only-of-type {\n",
       "        vertical-align: middle;\n",
       "    }\n",
       "\n",
       "    .dataframe tbody tr th {\n",
       "        vertical-align: top;\n",
       "    }\n",
       "\n",
       "    .dataframe thead th {\n",
       "        text-align: right;\n",
       "    }\n",
       "</style>\n",
       "<table border=\"1\" class=\"dataframe\">\n",
       "  <thead>\n",
       "    <tr style=\"text-align: right;\">\n",
       "      <th></th>\n",
       "      <th>Minifigs</th>\n",
       "      <th>Pieces</th>\n",
       "      <th>USPrice</th>\n",
       "      <th>OwnedBy</th>\n",
       "      <th>WantedBy</th>\n",
       "    </tr>\n",
       "  </thead>\n",
       "  <tbody>\n",
       "    <tr>\n",
       "      <th>Minifigs</th>\n",
       "      <td>1.0000</td>\n",
       "      <td>0.6502</td>\n",
       "      <td>0.6200</td>\n",
       "      <td>-0.0254</td>\n",
       "      <td>0.5268</td>\n",
       "    </tr>\n",
       "    <tr>\n",
       "      <th>Pieces</th>\n",
       "      <td>0.6502</td>\n",
       "      <td>1.0000</td>\n",
       "      <td>0.9506</td>\n",
       "      <td>0.0584</td>\n",
       "      <td>0.6459</td>\n",
       "    </tr>\n",
       "    <tr>\n",
       "      <th>USPrice</th>\n",
       "      <td>0.6200</td>\n",
       "      <td>0.9506</td>\n",
       "      <td>1.0000</td>\n",
       "      <td>0.0037</td>\n",
       "      <td>0.6284</td>\n",
       "    </tr>\n",
       "    <tr>\n",
       "      <th>OwnedBy</th>\n",
       "      <td>-0.0254</td>\n",
       "      <td>0.0584</td>\n",
       "      <td>0.0037</td>\n",
       "      <td>1.0000</td>\n",
       "      <td>0.5212</td>\n",
       "    </tr>\n",
       "    <tr>\n",
       "      <th>WantedBy</th>\n",
       "      <td>0.5268</td>\n",
       "      <td>0.6459</td>\n",
       "      <td>0.6284</td>\n",
       "      <td>0.5212</td>\n",
       "      <td>1.0000</td>\n",
       "    </tr>\n",
       "  </tbody>\n",
       "</table>\n",
       "</div>"
      ],
      "text/plain": [
       "          Minifigs  Pieces  USPrice  OwnedBy  WantedBy\n",
       "Minifigs    1.0000  0.6502   0.6200  -0.0254    0.5268\n",
       "Pieces      0.6502  1.0000   0.9506   0.0584    0.6459\n",
       "USPrice     0.6200  0.9506   1.0000   0.0037    0.6284\n",
       "OwnedBy    -0.0254  0.0584   0.0037   1.0000    0.5212\n",
       "WantedBy    0.5268  0.6459   0.6284   0.5212    1.0000"
      ]
     },
     "execution_count": 18,
     "metadata": {},
     "output_type": "execute_result"
    }
   ],
   "source": [
    "lego_df[['Minifigs','Pieces','USPrice','OwnedBy','WantedBy']].corr().round(4) # corr():相関係数"
   ]
  },
  {
   "cell_type": "code",
   "execution_count": 19,
   "metadata": {},
   "outputs": [
    {
     "data": {
      "text/plain": [
       "(0.9505699097927602, 1.6466387637334317e-219)"
      ]
     },
     "execution_count": 19,
     "metadata": {},
     "output_type": "execute_result"
    }
   ],
   "source": [
    "from scipy.stats import pearsonr, linregress\n",
    "\n",
    "pearsonr(lego_df['Pieces'], lego_df['USPrice'])"
   ]
  },
  {
   "cell_type": "code",
   "execution_count": 20,
   "metadata": {},
   "outputs": [
    {
     "data": {
      "text/plain": [
       "LinregressResult(slope=0.08277760657698045, intercept=8.206959865658622, rvalue=0.9505699097927596, pvalue=1.646638763738088e-219, stderr=0.0013070234503002633)"
      ]
     },
     "execution_count": 20,
     "metadata": {},
     "output_type": "execute_result"
    }
   ],
   "source": [
    "linregress(lego_df['Pieces'], lego_df['USPrice'])"
   ]
  },
  {
   "cell_type": "code",
   "execution_count": 21,
   "metadata": {},
   "outputs": [
    {
     "data": {
      "text/plain": [
       "50.0"
      ]
     },
     "execution_count": 21,
     "metadata": {},
     "output_type": "execute_result"
    }
   ],
   "source": [
    "slope, intercept, rvalue, pvalue, stderr = linregress(lego_df['Pieces'],lego_df['USPrice'])\n",
    "\n",
    "pieces = 500\n",
    "\n",
    "# Y = aX + b\n",
    "price = slope * pieces + intercept\n",
    "round(price)"
   ]
  },
  {
   "cell_type": "code",
   "execution_count": 22,
   "metadata": {},
   "outputs": [],
   "source": [
    "# 回帰式取得\n",
    "SLOPE, INTERCEPT, rvalue, pvalue, stderr = linregress(lego_df['Pieces'],lego_df['USPrice'])\n",
    "\n",
    "# ピース数から価格を返す関数\n",
    "def get_price(pieces):\n",
    "    return pieces * SLOPE + INTERCEPT"
   ]
  },
  {
   "cell_type": "code",
   "execution_count": 23,
   "metadata": {
    "scrolled": true
   },
   "outputs": [
    {
     "data": {
      "image/png": "[encoded data removed]",
      "text/plain": [
       "<Figure size 576x576 with 1 Axes>"
      ]
     },
     "metadata": {
      "needs_background": "light"
     },
     "output_type": "display_data"
    }
   ],
   "source": [
    "from matplotlib import pyplot as plt\n",
    "\n",
    "figure = plt.figure(figsize=(8, 8))\n",
    "ax1 = figure.add_subplot(1,1,1) # 1 x 1　の　1つ目に配置\n",
    "lego_df.plot.scatter(ax=ax1, x='Pieces', y='USPrice', grid=True, color='c')\n",
    "\n",
    "max_pieace = lego_df['Pieces'].max()\n",
    "\n",
    "x = [0, max_pieace]\n",
    "y = [get_price(0), get_price(max_pieace)]\n",
    "\n",
    "ax1.plot(x, y)\n",
    "plt.show()"
   ]
  }
 ],
 "metadata": {
  "kernelspec": {
   "display_name": "Python 3",
   "language": "python",
   "name": "python3"
  },
  "language_info": {
   "codemirror_mode": {
    "name": "ipython",
    "version": 3
   },
   "file_extension": ".py",
   "mimetype": "text/x-python",
   "name": "python",
   "nbconvert_exporter": "python",
   "pygments_lexer": "ipython3",
   "version": "3.7.0"
  }
 },
 "nbformat": 4,
 "nbformat_minor": 2
}
